{
 "cells": [
  {
   "cell_type": "markdown",
   "metadata": {},
   "source": [
    "## Imports"
   ]
  },
  {
   "cell_type": "code",
   "execution_count": 4,
   "metadata": {},
   "outputs": [],
   "source": [
    "import numpy as np\n",
    "import pandas as pd\n",
    "import matplotlib.pyplot as plt\n",
    "\n",
    "from sklearn.model_selection import train_test_split, KFold\n",
    "\n",
    "from sklearn.metrics import f1_score, confusion_matrix, matthews_corrcoef, precision_score, recall_score\n",
    "from sklearn.metrics import explained_variance_score, mean_squared_error, max_error, mean_absolute_error\n",
    "from scipy.stats import pearsonr\n",
    "\n",
    "from sklearn.pipeline import make_pipeline\n",
    "from sklearn.preprocessing import StandardScaler\n",
    "from sklearn.preprocessing import LabelEncoder\n",
    "\n",
    "from sklearn.linear_model import LinearRegression\n",
    "from sklearn.ensemble import RandomForestRegressor\n",
    "from xgboost import XGBClassifier"
   ]
  },
  {
   "cell_type": "markdown",
   "metadata": {},
   "source": [
    "### Pre-processing data"
   ]
  },
  {
   "cell_type": "code",
   "execution_count": 5,
   "metadata": {},
   "outputs": [],
   "source": [
    "country_pop = pd.read_csv(\"country_population.csv\")\n",
    "fertility_rate=pd.read_csv(\"fertility_rate.csv\")\n",
    "life_exp = pd.read_csv(\"life_expectancy.csv\")"
   ]
  },
  {
   "cell_type": "markdown",
   "metadata": {},
   "source": [
    "#### Shuffle and remove first 10 countries"
   ]
  },
  {
   "cell_type": "code",
   "execution_count": 6,
   "metadata": {},
   "outputs": [],
   "source": [
    "country_pop = country_pop.sample(frac=1, random_state=22)\n",
    "country_pop_test = country_pop.head(10)\n",
    "country_pop = country_pop.iloc[10:]\n",
    "\n",
    "fertility_rate = fertility_rate.sample(frac=1, random_state=22)\n",
    "fertility_rate_test = fertility_rate.head(10)\n",
    "fertility_rate = fertility_rate.iloc[10:]\n",
    "\n",
    "life_exp = life_exp.sample(frac=1)\n",
    "life_exp_test = life_exp.head(10)\n",
    "life_exp = life_exp.iloc[10:]"
   ]
  },
  {
   "cell_type": "code",
   "execution_count": 7,
   "metadata": {},
   "outputs": [],
   "source": [
    "################################## Country Population ##################################\n",
    "\n",
    "vals = []\n",
    "vals_temp = []\n",
    "\n",
    "for i in range(len(country_pop)):        \n",
    "    for j in range(1,6):         \n",
    "        starting_year = 1959\n",
    "        stop_year = 2011\n",
    "        starting_year += j\n",
    "        stop_year += j    \n",
    "        year_temp = starting_year\n",
    "        for l in range(1,53):           \n",
    "            if year_temp == stop_year:\n",
    "                break       \n",
    "            new_y = eval(str(year_temp+1))        \n",
    "            vals_temp.append(country_pop.iloc[i][str(new_y)] - country_pop.iloc[i][str(year_temp)])\n",
    "            year_temp += 1    \n",
    "        vals.append(vals_temp)\n",
    "        vals_temp = []\n",
    "\n",
    "df_country = pd.DataFrame(vals)\n",
    "\n",
    "################################## Fertility Rate ##################################\n",
    "\n",
    "vals = []\n",
    "vals_temp = []\n",
    "\n",
    "for i in range(len(fertility_rate)):        \n",
    "    for j in range(1,6):         \n",
    "        starting_year = 1959\n",
    "        stop_year = 2011\n",
    "        starting_year += j\n",
    "        stop_year += j    \n",
    "        year_temp = starting_year\n",
    "        for l in range(1,53):           \n",
    "            if year_temp == stop_year:\n",
    "                break       \n",
    "            new_y = eval(str(year_temp+1))        \n",
    "            vals_temp.append(fertility_rate.iloc[i][str(new_y)] - fertility_rate.iloc[i][str(year_temp)])\n",
    "            year_temp += 1    \n",
    "        vals.append(vals_temp)\n",
    "        vals_temp = []\n",
    "\n",
    "df_fert = pd.DataFrame(vals)\n",
    "\n",
    "################################## Life expectancy ##################################\n",
    "\n",
    "vals = []\n",
    "vals_temp = []\n",
    "\n",
    "for i in range(len(life_exp)):        \n",
    "    for j in range(1,6):         \n",
    "        starting_year = 1959\n",
    "        stop_year = 2011\n",
    "        starting_year += j\n",
    "        stop_year += j    \n",
    "        year_temp = starting_year\n",
    "        for l in range(1,53):           \n",
    "            if year_temp == stop_year:\n",
    "                break       \n",
    "            new_y = eval(str(year_temp+1))        \n",
    "            vals_temp.append(life_exp.iloc[i][str(new_y)] - life_exp.iloc[i][str(year_temp)])\n",
    "            year_temp += 1    \n",
    "        vals.append(vals_temp)\n",
    "        vals_temp = []\n",
    "\n",
    "df_life_exp = pd.DataFrame(vals)"
   ]
  },
  {
   "cell_type": "code",
   "execution_count": 8,
   "metadata": {},
   "outputs": [],
   "source": [
    "################################## Country Population ##################################\n",
    "\n",
    "df_country = df_country.dropna()\n",
    "df_country =df_country.sample(frac=1, random_state=22)\n",
    "\n",
    "################################## Fertility Rate ##################################\n",
    "\n",
    "df_fert = df_fert.dropna()\n",
    "df_fert =df_fert.sample(frac=1, random_state=22)\n",
    "\n",
    "################################## Life expectancy ##################################\n",
    "\n",
    "df_life_exp = df_life_exp.dropna()\n",
    "df_life_exp =df_life_exp.sample(frac=1, random_state=22)"
   ]
  },
  {
   "cell_type": "code",
   "execution_count": 20,
   "metadata": {},
   "outputs": [],
   "source": [
    "################################## Country Population ##################################\n",
    "\n",
    "X_cp = df_country.drop([51], axis=1)\n",
    "y_cp = np.array(df_country[51])\n",
    "\n",
    "################################## Fertility Rate ##################################\n",
    "\n",
    "X_fr = df_fert.drop([51], axis=1)\n",
    "y_fr = np.array(df_fert[51])\n",
    "\n",
    "################################## Life expectancy ##################################\n",
    "\n",
    "X_le = df_life_exp.drop([51], axis=1)\n",
    "y_le = np.array(df_life_exp[51])"
   ]
  },
  {
   "cell_type": "code",
   "execution_count": 10,
   "metadata": {},
   "outputs": [],
   "source": [
    "kf = KFold(n_splits=5, shuffle=False)"
   ]
  },
  {
   "cell_type": "markdown",
   "metadata": {},
   "source": [
    "#### Train Model"
   ]
  },
  {
   "cell_type": "code",
   "execution_count": 11,
   "metadata": {},
   "outputs": [],
   "source": [
    "################################## Country Population ##################################\n",
    "\n",
    "vals = []\n",
    "vals_temp = []\n",
    "\n",
    "for i in range(len(country_pop_test)):        \n",
    "    for j in range(1,6):         \n",
    "        starting_year = 1959\n",
    "        stop_year = 2011\n",
    "        starting_year += j\n",
    "        stop_year += j    \n",
    "        year_temp = starting_year\n",
    "        for l in range(1,53):           \n",
    "            if year_temp == stop_year:\n",
    "                break       \n",
    "            new_y = eval(str(year_temp+1))        \n",
    "            vals_temp.append(country_pop_test.iloc[i][str(new_y)] - country_pop_test.iloc[i][str(year_temp)])\n",
    "            year_temp += 1    \n",
    "        vals.append(vals_temp)\n",
    "        vals_temp = []\n",
    "\n",
    "df_country_test = pd.DataFrame(vals)\n",
    "\n",
    "df_country_test = df_country_test.dropna()\n",
    "\n",
    "X_poptest = df_country_test.drop([51], axis=1)\n",
    "y_poptest = np.array(df_country_test[51])\n",
    "\n",
    "################################## Fertility Rate ##################################\n",
    "\n",
    "vals = []\n",
    "vals_temp = []\n",
    "\n",
    "for i in range(len(fertility_rate_test)):        \n",
    "    for j in range(1,6):         \n",
    "        starting_year = 1959\n",
    "        stop_year = 2011\n",
    "        starting_year += j\n",
    "        stop_year += j    \n",
    "        year_temp = starting_year\n",
    "        for l in range(1,53):           \n",
    "            if year_temp == stop_year:\n",
    "                break       \n",
    "            new_y = eval(str(year_temp+1))        \n",
    "            vals_temp.append(fertility_rate_test.iloc[i][str(new_y)] - fertility_rate_test.iloc[i][str(year_temp)])\n",
    "            year_temp += 1    \n",
    "        vals.append(vals_temp)\n",
    "        vals_temp = []\n",
    "\n",
    "df_fert_test = pd.DataFrame(vals)\n",
    "\n",
    "df_fert_test = df_fert_test.dropna()\n",
    "\n",
    "X_ferttest = df_fert_test.drop([51], axis=1)\n",
    "y_ferttest = np.array(df_fert_test[51])\n",
    "\n",
    "################################## Life expectancy ##################################\n",
    "\n",
    "vals = []\n",
    "vals_temp = []\n",
    "\n",
    "for i in range(len(life_exp_test)):        \n",
    "    for j in range(1,6):         \n",
    "        starting_year = 1959\n",
    "        stop_year = 2011\n",
    "        starting_year += j\n",
    "        stop_year += j    \n",
    "        year_temp = starting_year\n",
    "        for l in range(1,53):           \n",
    "            if year_temp == stop_year:\n",
    "                break       \n",
    "            new_y = eval(str(year_temp+1))        \n",
    "            vals_temp.append(life_exp_test.iloc[i][str(new_y)] - life_exp_test.iloc[i][str(year_temp)])\n",
    "            year_temp += 1    \n",
    "        vals.append(vals_temp)\n",
    "        vals_temp = []\n",
    "\n",
    "df_life_exp_test = pd.DataFrame(vals)\n",
    "\n",
    "df_life_exp_test = df_life_exp_test.dropna()\n",
    "\n",
    "X_life_test = df_life_exp_test.drop([51], axis=1)\n",
    "y_life_test = np.array(df_life_exp_test[51])"
   ]
  },
  {
   "cell_type": "code",
   "execution_count": 12,
   "metadata": {},
   "outputs": [],
   "source": [
    "def printRegStatistics(truth, preds):\n",
    "    print(\"The RVE is: \", explained_variance_score(truth, preds))\n",
    "    print(\"The rmse is: \", mean_squared_error(truth, preds, squared=False))\n",
    "    corr, pval = pearsonr(truth, preds)\n",
    "    print(\"The Correlation Score is: %6.4f (p-value=%e)\\n\"%(corr,pval))\n",
    "    print(\"The Maximum Error is: \", max_error(truth, preds))\n",
    "    print(\"The Mean Absolute Error is: \", mean_absolute_error(truth, preds))\n",
    "    print(\"----------------------------\")"
   ]
  },
  {
   "cell_type": "code",
   "execution_count": 13,
   "metadata": {},
   "outputs": [],
   "source": [
    "################################## Country Population ##################################\n",
    "\n",
    "def compareValuesCP(prediction, real):\n",
    "    plt.figure(figsize=(7,7))\n",
    "    plt.scatter(prediction, real)\n",
    "    plt.grid()\n",
    "    plt.plot([-86657473, 86657473], [-86657473, 86657473], c=\"r\")\n",
    "    plt.show()\n",
    "\n",
    "################################## Fertility Rate ##################################\n",
    "\n",
    "def compareValuesFR(prediction, real):\n",
    "    plt.figure(figsize=(7,7))\n",
    "    plt.scatter(prediction, real)\n",
    "    plt.grid()\n",
    "    plt.plot([-0.158, 0.158], [-0.158, 0.158], c=\"r\")\n",
    "    plt.show()\n",
    "\n",
    "################################## Life expectancy ##################################\n",
    "\n",
    "def compareValuesLE(prediction, real):\n",
    "    plt.figure(figsize=(7,7))\n",
    "    plt.scatter(prediction, real)\n",
    "    plt.grid()\n",
    "    plt.plot([-1, 1], [-1, 1], c=\"r\")\n",
    "    plt.show()"
   ]
  },
  {
   "cell_type": "markdown",
   "metadata": {},
   "source": [
    "### Random Forest Regressor"
   ]
  },
  {
   "cell_type": "markdown",
   "metadata": {},
   "source": [
    "#### Country Population"
   ]
  },
  {
   "cell_type": "code",
   "execution_count": 17,
   "metadata": {},
   "outputs": [
    {
     "name": "stdout",
     "output_type": "stream",
     "text": [
      "The RVE is:  0.9994970658806287\n",
      "The rmse is:  241067.67236617077\n",
      "The Correlation Score is: 0.9998 (p-value=0.000000e+00)\n",
      "\n",
      "The Maximum Error is:  2869897.9399999976\n",
      "The Mean Absolute Error is:  72243.33304435483\n",
      "----------------------------\n"
     ]
    },
    {
     "data": {
      "image/png": "[encoded data removed]",
      "text/plain": [
       "<Figure size 504x504 with 1 Axes>"
      ]
     },
     "metadata": {
      "needs_background": "light"
     },
     "output_type": "display_data"
    }
   ],
   "source": [
    "TRUTH_nfold=None\n",
    "PREDS_nfold=None\n",
    "\n",
    "for train_index, test_index in kf.split(X_cp):\n",
    "    \n",
    "    X_train, X_test = X_cp.iloc[train_index], X_cp.iloc[test_index]\n",
    "    y_train, y_test = y_cp[train_index], y_cp[test_index]\n",
    "    \n",
    "    rfr= RandomForestRegressor(n_estimators=100)\n",
    "    rfr.fit(X_train, y_train)\n",
    "    preds_rfr = rfr.predict(X_test)\n",
    "    \n",
    "    if TRUTH_nfold is None:\n",
    "        PREDS_nfold=preds_rfr\n",
    "        TRUTH_nfold=y_test\n",
    "    else:\n",
    "        PREDS_nfold=np.hstack((PREDS_nfold, preds_rfr))\n",
    "        TRUTH_nfold=np.hstack((TRUTH_nfold, y_test))\n",
    "\n",
    "printRegStatistics(TRUTH_nfold, PREDS_nfold)\n",
    "compareValuesCP(TRUTH_nfold, PREDS_nfold)"
   ]
  },
  {
   "cell_type": "markdown",
   "metadata": {},
   "source": [
    "#### Fertility Rate"
   ]
  },
  {
   "cell_type": "code",
   "execution_count": 18,
   "metadata": {},
   "outputs": [
    {
     "name": "stdout",
     "output_type": "stream",
     "text": [
      "The RVE is:  0.7040468314061145\n",
      "The rmse is:  0.022412776605002942\n",
      "The Correlation Score is: 0.8391 (p-value=1.866704e-299)\n",
      "\n",
      "The Maximum Error is:  0.1857374617603065\n",
      "The Mean Absolute Error is:  0.009800037924698014\n",
      "----------------------------\n"
     ]
    },
    {
     "data": {
      "image/png": "[encoded data removed]",
      "text/plain": [
       "<Figure size 504x504 with 1 Axes>"
      ]
     },
     "metadata": {
      "needs_background": "light"
     },
     "output_type": "display_data"
    }
   ],
   "source": [
    "TRUTH_nfold=None\n",
    "PREDS_nfold=None\n",
    "\n",
    "for train_index, test_index in kf.split(X_fr):\n",
    "    \n",
    "    X_train, X_test = X_fr.iloc[train_index], X_fr.iloc[test_index]\n",
    "    y_train, y_test = y_fr[train_index], y_fr[test_index]\n",
    "    \n",
    "    rfr= RandomForestRegressor(n_estimators=100)\n",
    "    rfr.fit(X_train, y_train)\n",
    "    preds_rfr = rfr.predict(X_test)\n",
    "    \n",
    "    if TRUTH_nfold is None:\n",
    "        PREDS_nfold=preds_rfr\n",
    "        TRUTH_nfold=y_test\n",
    "    else:\n",
    "        PREDS_nfold=np.hstack((PREDS_nfold, preds_rfr))\n",
    "        TRUTH_nfold=np.hstack((TRUTH_nfold, y_test))\n",
    "\n",
    "printRegStatistics(TRUTH_nfold, PREDS_nfold)\n",
    "compareValuesFR(TRUTH_nfold, PREDS_nfold)"
   ]
  },
  {
   "cell_type": "markdown",
   "metadata": {},
   "source": [
    "#### Life Expectancy"
   ]
  },
  {
   "cell_type": "code",
   "execution_count": 21,
   "metadata": {},
   "outputs": [
    {
     "name": "stdout",
     "output_type": "stream",
     "text": [
      "The RVE is:  0.7174002374636115\n",
      "The rmse is:  0.12732016765523135\n",
      "The Correlation Score is: 0.8470 (p-value=1.699099e-310)\n",
      "\n",
      "The Maximum Error is:  1.2645074728617718\n",
      "The Mean Absolute Error is:  0.05479720095581231\n",
      "----------------------------\n"
     ]
    },
    {
     "data": {
      "image/png": "[encoded data removed]",
      "text/plain": [
       "<Figure size 504x504 with 1 Axes>"
      ]
     },
     "metadata": {
      "needs_background": "light"
     },
     "output_type": "display_data"
    }
   ],
   "source": [
    "TRUTH_nfold=None\n",
    "PREDS_nfold=None\n",
    "\n",
    "for train_index, test_index in kf.split(X_le):\n",
    "    \n",
    "    X_train, X_test = X_le.iloc[train_index], X_le.iloc[test_index]\n",
    "    y_train, y_test = y_le[train_index], y_le[test_index]\n",
    "    \n",
    "    rfr= RandomForestRegressor(n_estimators=100)\n",
    "    rfr.fit(X_train, y_train)\n",
    "    preds_rfr = rfr.predict(X_test)\n",
    "    \n",
    "    if TRUTH_nfold is None:\n",
    "        PREDS_nfold=preds_rfr\n",
    "        TRUTH_nfold=y_test\n",
    "    else:\n",
    "        PREDS_nfold=np.hstack((PREDS_nfold, preds_rfr))\n",
    "        TRUTH_nfold=np.hstack((TRUTH_nfold, y_test))\n",
    "\n",
    "printRegStatistics(TRUTH_nfold, PREDS_nfold)\n",
    "compareValuesLE(TRUTH_nfold, PREDS_nfold)"
   ]
  },
  {
   "cell_type": "markdown",
   "metadata": {},
   "source": [
    "### XGB Classifier"
   ]
  },
  {
   "cell_type": "markdown",
   "metadata": {},
   "source": [
    "#### Country Population"
   ]
  },
  {
   "cell_type": "code",
   "execution_count": 23,
   "metadata": {},
   "outputs": [
    {
     "name": "stdout",
     "output_type": "stream",
     "text": [
      "The RVE is:  2.5467152685254568e-05\n",
      "The rmse is:  11301551.086378781\n",
      "The Correlation Score is: 0.4892 (p-value=1.299237e-75)\n",
      "\n",
      "The Maximum Error is:  86656550.0\n",
      "The Mean Absolute Error is:  3503842.2193548386\n",
      "----------------------------\n"
     ]
    }
   ],
   "source": [
    "TRUTH_nfold=None\n",
    "PREDS_nfold=None\n",
    "\n",
    "for train_index, test_index in kf.split(X_cp):\n",
    "    \n",
    "    X_train, X_test = X_cp.iloc[train_index], X_cp.iloc[test_index]\n",
    "    y_train, y_test = y_cp[train_index], y_cp[test_index]\n",
    "    \n",
    "    le = LabelEncoder()\n",
    "    y_train = le.fit_transform(y_train)\n",
    "    \n",
    "    bst = XGBClassifier(random_state=22)\n",
    "    bst.fit(X_train, y_train)\n",
    "    preds_bst = bst.predict(X_test)   \n",
    "            \n",
    "    if TRUTH_nfold is None:\n",
    "        PREDS_nfold=preds_bst\n",
    "        TRUTH_nfold=y_test\n",
    "    else:\n",
    "        PREDS_nfold=np.hstack((PREDS_nfold, preds_bst))\n",
    "        TRUTH_nfold=np.hstack((TRUTH_nfold, y_test))\n",
    "printRegStatistics(TRUTH_nfold, PREDS_nfold)"
   ]
  },
  {
   "cell_type": "markdown",
   "metadata": {},
   "source": [
    "#### Fertility Rate"
   ]
  },
  {
   "cell_type": "code",
   "execution_count": 24,
   "metadata": {},
   "outputs": [
    {
     "name": "stdout",
     "output_type": "stream",
     "text": [
      "The RVE is:  -9195275.626359718\n",
      "The rmse is:  285.13599298429284\n",
      "The Correlation Score is: 0.7159 (p-value=1.545548e-177)\n",
      "\n",
      "The Maximum Error is:  488.1\n",
      "The Mean Absolute Error is:  256.31958508423804\n",
      "----------------------------\n"
     ]
    }
   ],
   "source": [
    "TRUTH_nfold=None\n",
    "PREDS_nfold=None\n",
    "\n",
    "for train_index, test_index in kf.split(X_fr):\n",
    "    \n",
    "    X_train, X_test = X_fr.iloc[train_index], X_fr.iloc[test_index]\n",
    "    y_train, y_test = y_fr[train_index], y_fr[test_index]\n",
    "    \n",
    "    le = LabelEncoder()\n",
    "    y_train = le.fit_transform(y_train)\n",
    "    \n",
    "    bst = XGBClassifier(random_state=22)\n",
    "    bst.fit(X_train, y_train)\n",
    "    preds_bst = bst.predict(X_test)   \n",
    "            \n",
    "    if TRUTH_nfold is None:\n",
    "        PREDS_nfold=preds_bst\n",
    "        TRUTH_nfold=y_test\n",
    "    else:\n",
    "        PREDS_nfold=np.hstack((PREDS_nfold, preds_bst))\n",
    "        TRUTH_nfold=np.hstack((TRUTH_nfold, y_test))\n",
    "printRegStatistics(TRUTH_nfold, PREDS_nfold)"
   ]
  },
  {
   "cell_type": "markdown",
   "metadata": {},
   "source": [
    "#### Life Expectancy"
   ]
  },
  {
   "cell_type": "code",
   "execution_count": 25,
   "metadata": {},
   "outputs": [
    {
     "name": "stdout",
     "output_type": "stream",
     "text": [
      "The RVE is:  -649356.8315057313\n",
      "The rmse is:  375.39207507413124\n",
      "The Correlation Score is: 0.6265 (p-value=1.105578e-123)\n",
      "\n",
      "The Maximum Error is:  710.18\n",
      "The Mean Absolute Error is:  321.98599725696425\n",
      "----------------------------\n"
     ]
    }
   ],
   "source": [
    "TRUTH_nfold=None\n",
    "PREDS_nfold=None\n",
    "\n",
    "for train_index, test_index in kf.split(X_le):\n",
    "    \n",
    "    X_train, X_test = X_le.iloc[train_index], X_le.iloc[test_index]\n",
    "    y_train, y_test = y_le[train_index], y_le[test_index]\n",
    "    \n",
    "    le = LabelEncoder()\n",
    "    y_train = le.fit_transform(y_train)\n",
    "    \n",
    "    bst = XGBClassifier(random_state=22)\n",
    "    bst.fit(X_train, y_train)\n",
    "    preds_bst = bst.predict(X_test)   \n",
    "            \n",
    "    if TRUTH_nfold is None:\n",
    "        PREDS_nfold=preds_bst\n",
    "        TRUTH_nfold=y_test\n",
    "    else:\n",
    "        PREDS_nfold=np.hstack((PREDS_nfold, preds_bst))\n",
    "        TRUTH_nfold=np.hstack((TRUTH_nfold, y_test))\n",
    "printRegStatistics(TRUTH_nfold, PREDS_nfold)"
   ]
  },
  {
   "cell_type": "markdown",
   "metadata": {},
   "source": [
    "### Linear Regression"
   ]
  },
  {
   "cell_type": "markdown",
   "metadata": {},
   "source": [
    "#### Country Population"
   ]
  },
  {
   "cell_type": "code",
   "execution_count": 26,
   "metadata": {},
   "outputs": [
    {
     "name": "stdout",
     "output_type": "stream",
     "text": [
      "The RVE is:  0.9999369953744082\n",
      "The rmse is:  85335.03205352784\n",
      "The Correlation Score is: 1.0000 (p-value=0.000000e+00)\n",
      "\n",
      "The Maximum Error is:  1059392.162765073\n",
      "The Mean Absolute Error is:  37666.14299073957\n",
      "----------------------------\n"
     ]
    },
    {
     "data": {
      "image/png": "[encoded data removed]",
      "text/plain": [
       "<Figure size 504x504 with 1 Axes>"
      ]
     },
     "metadata": {
      "needs_background": "light"
     },
     "output_type": "display_data"
    }
   ],
   "source": [
    "TRUTH_nfold=None\n",
    "PREDS_nfold=None\n",
    "\n",
    "for train_index, test_index in kf.split(X_cp):\n",
    "    \n",
    "    X_train, X_test = X_cp.iloc[train_index], X_cp.iloc[test_index]\n",
    "    y_train, y_test = y_cp[train_index], y_cp[test_index]\n",
    "    \n",
    "    linearReg = LinearRegression()\n",
    "    linearReg.fit(X_train, y_train)\n",
    "    preds = linearReg.predict(X_test)\n",
    "    \n",
    "    if TRUTH_nfold is None:\n",
    "        PREDS_nfold=preds\n",
    "        TRUTH_nfold=y_test\n",
    "    else:\n",
    "        PREDS_nfold=np.hstack((PREDS_nfold, preds))\n",
    "        TRUTH_nfold=np.hstack((TRUTH_nfold, y_test))\n",
    "        \n",
    "printRegStatistics(TRUTH_nfold, PREDS_nfold)\n",
    "compareValuesCP(TRUTH_nfold, PREDS_nfold)"
   ]
  },
  {
   "cell_type": "markdown",
   "metadata": {},
   "source": [
    "#### Fertility Rate"
   ]
  },
  {
   "cell_type": "code",
   "execution_count": 27,
   "metadata": {},
   "outputs": [
    {
     "name": "stdout",
     "output_type": "stream",
     "text": [
      "The RVE is:  0.6391268817898974\n",
      "The rmse is:  0.024750421496515802\n",
      "The Correlation Score is: 0.8080 (p-value=1.615716e-260)\n",
      "\n",
      "The Maximum Error is:  0.16824099759044508\n",
      "The Mean Absolute Error is:  0.01323820805474814\n",
      "----------------------------\n"
     ]
    },
    {
     "data": {
      "image/png": "[encoded data removed]",
      "text/plain": [
       "<Figure size 504x504 with 1 Axes>"
      ]
     },
     "metadata": {
      "needs_background": "light"
     },
     "output_type": "display_data"
    }
   ],
   "source": [
    "TRUTH_nfold=None\n",
    "PREDS_nfold=None\n",
    "\n",
    "for train_index, test_index in kf.split(X_fr):\n",
    "    \n",
    "    X_train, X_test = X_fr.iloc[train_index], X_fr.iloc[test_index]\n",
    "    y_train, y_test = y_fr[train_index], y_fr[test_index]\n",
    "    \n",
    "    linearReg = LinearRegression()\n",
    "    linearReg.fit(X_train, y_train)\n",
    "    preds = linearReg.predict(X_test)\n",
    "    \n",
    "    if TRUTH_nfold is None:\n",
    "        PREDS_nfold=preds\n",
    "        TRUTH_nfold=y_test\n",
    "    else:\n",
    "        PREDS_nfold=np.hstack((PREDS_nfold, preds))\n",
    "        TRUTH_nfold=np.hstack((TRUTH_nfold, y_test))\n",
    "        \n",
    "printRegStatistics(TRUTH_nfold, PREDS_nfold)\n",
    "compareValuesFR(TRUTH_nfold, PREDS_nfold)"
   ]
  },
  {
   "cell_type": "markdown",
   "metadata": {},
   "source": [
    "#### Life Expectancy"
   ]
  },
  {
   "cell_type": "code",
   "execution_count": 28,
   "metadata": {},
   "outputs": [
    {
     "name": "stdout",
     "output_type": "stream",
     "text": [
      "The RVE is:  0.5105336050263763\n",
      "The rmse is:  0.1675536499563087\n",
      "The Correlation Score is: 0.7335 (p-value=1.504719e-190)\n",
      "\n",
      "The Maximum Error is:  1.551771785884166\n",
      "The Mean Absolute Error is:  0.08250402601323989\n",
      "----------------------------\n"
     ]
    },
    {
     "data": {
      "image/png": "[encoded data removed]",
      "text/plain": [
       "<Figure size 504x504 with 1 Axes>"
      ]
     },
     "metadata": {
      "needs_background": "light"
     },
     "output_type": "display_data"
    }
   ],
   "source": [
    "TRUTH_nfold=None\n",
    "PREDS_nfold=None\n",
    "\n",
    "for train_index, test_index in kf.split(X_le):\n",
    "    \n",
    "    X_train, X_test = X_le.iloc[train_index], X_le.iloc[test_index]\n",
    "    y_train, y_test = y_le[train_index], y_le[test_index]\n",
    "    \n",
    "    linearReg = LinearRegression()\n",
    "    linearReg.fit(X_train, y_train)\n",
    "    preds = linearReg.predict(X_test)\n",
    "    \n",
    "    if TRUTH_nfold is None:\n",
    "        PREDS_nfold=preds\n",
    "        TRUTH_nfold=y_test\n",
    "    else:\n",
    "        PREDS_nfold=np.hstack((PREDS_nfold, preds))\n",
    "        TRUTH_nfold=np.hstack((TRUTH_nfold, y_test))\n",
    "        \n",
    "printRegStatistics(TRUTH_nfold, PREDS_nfold)\n",
    "compareValuesLE(TRUTH_nfold, PREDS_nfold)"
   ]
  },
  {
   "cell_type": "markdown",
   "metadata": {},
   "source": [
    "### Model Predictions"
   ]
  },
  {
   "cell_type": "code",
   "execution_count": 29,
   "metadata": {},
   "outputs": [],
   "source": [
    "################################## Country Population ##################################\n",
    "\n",
    "vals = []\n",
    "vals_temp = []\n",
    "\n",
    "for i in range(len(country_pop_test)):        \n",
    "    starting_year = 1965\n",
    "    stop_year = 2016  \n",
    "    year_temp = starting_year\n",
    "    for l in range(1,52):           \n",
    "        if year_temp == stop_year:\n",
    "            break       \n",
    "        new_y = eval(str(year_temp+1))        \n",
    "        vals_temp.append(country_pop_test.iloc[i][str(new_y)] - country_pop_test.iloc[i][str(year_temp)])\n",
    "        year_temp += 1    \n",
    "    vals.append(vals_temp)\n",
    "    vals_temp = []\n",
    "\n",
    "df_country_pop_test = pd.DataFrame(vals)\n",
    "\n",
    "df_country_pop_test = df_country_pop_test.dropna() \n",
    "\n",
    "X_test_pop = df_country_pop_test\n",
    "\n",
    "################################## Fertility Rate ##################################\n",
    "\n",
    "vals = []\n",
    "vals_temp = []\n",
    "\n",
    "for i in range(len(fertility_rate_test)):        \n",
    "    starting_year = 1965\n",
    "    stop_year = 2016  \n",
    "    year_temp = starting_year\n",
    "    for l in range(1,52):           \n",
    "        if year_temp == stop_year:\n",
    "            break       \n",
    "        new_y = eval(str(year_temp+1))        \n",
    "        vals_temp.append(fertility_rate_test.iloc[i][str(new_y)] - fertility_rate_test.iloc[i][str(year_temp)])\n",
    "        year_temp += 1    \n",
    "    vals.append(vals_temp)\n",
    "    vals_temp = []\n",
    "\n",
    "df_fertility_rate_test = pd.DataFrame(vals)\n",
    "\n",
    "df_fertility_rate_test = df_fertility_rate_test.dropna() \n",
    "\n",
    "X_test_fertility = df_fertility_rate_test \n",
    "\n",
    "################################## Life expectancy ##################################\n",
    "\n",
    "vals = []\n",
    "vals_temp = []\n",
    "\n",
    "for i in range(len(life_exp_test)):        \n",
    "    starting_year = 1965\n",
    "    stop_year = 2016  \n",
    "    year_temp = starting_year\n",
    "    for l in range(1,52):           \n",
    "        if year_temp == stop_year:\n",
    "            break       \n",
    "        new_y = eval(str(year_temp+1))        \n",
    "        vals_temp.append(life_exp_test.iloc[i][str(new_y)] - life_exp_test.iloc[i][str(year_temp)])\n",
    "        year_temp += 1    \n",
    "    vals.append(vals_temp)\n",
    "    vals_temp = []\n",
    "\n",
    "df_life_exp_test = pd.DataFrame(vals)\n",
    "\n",
    "df_life_exp_test = df_life_exp_test.dropna() \n",
    "\n",
    "X_test_life = df_life_exp_test"
   ]
  },
  {
   "cell_type": "code",
   "execution_count": 31,
   "metadata": {},
   "outputs": [],
   "source": [
    "################################## Country Population ##################################\n",
    "\n",
    "rfr= RandomForestRegressor(n_estimators=100)\n",
    "rfr.fit(X_cp, y_cp)\n",
    "final_preds_cp = rfr.predict(X_test_pop)\n",
    "\n",
    "country_pop_2017 = pd.read_csv(\"country_pop_2017.csv\")\n",
    "\n",
    "real = country_pop_2017['2017'] - country_pop_2017['2016'] \n",
    "real_vals = []\n",
    "\n",
    "vals_2016 = []\n",
    "vals_2017 = []\n",
    "\n",
    "for i in range(len(country_pop_test)):\n",
    "    for j in range(len(country_pop_2017)):\n",
    "        if country_pop_test.iloc[i]['Country Code'] == country_pop_2017.iloc[j]['Country Code']:\n",
    "            vals_2016.append(country_pop_2017.iloc[j]['2016'])\n",
    "            vals_2017.append(country_pop_2017.iloc[j]['2017'])\n",
    "\n",
    "            \n",
    "\n",
    "y_test_country = np.array([x1 - x2 for (x1, x2) in zip(vals_2017, vals_2016)])\n",
    "\n",
    "################################## Fertility Rate ##################################\n",
    "\n",
    "rfr= RandomForestRegressor(n_estimators=100)\n",
    "rfr.fit(X_fr, y_fr)\n",
    "final_preds_fr = rfr.predict(X_test_fertility)\n",
    "\n",
    "country_fert_2017 = pd.read_csv(\"country_fert_2017.csv\")\n",
    "\n",
    "real = country_fert_2017['2017'] - country_fert_2017['2016'] \n",
    "real_vals = []\n",
    "\n",
    "vals_2016 = []\n",
    "vals_2017 = []\n",
    "\n",
    "for i in range(len(fertility_rate_test)):\n",
    "    for j in range(len(country_fert_2017)):\n",
    "        if fertility_rate_test.iloc[i]['Country Code'] == country_fert_2017.iloc[j]['Country Code']:\n",
    "            vals_2016.append(country_fert_2017.iloc[j]['2016'])\n",
    "            vals_2017.append(country_fert_2017.iloc[j]['2017'])\n",
    "\n",
    "            \n",
    "\n",
    "y_test_fert = np.array([x1 - x2 for (x1, x2) in zip(vals_2017, vals_2016)])\n",
    "\n",
    "################################## Life expectancy ##################################\n",
    "\n",
    "rfr= RandomForestRegressor(n_estimators=100)\n",
    "rfr.fit(X_le, y_le)\n",
    "final_preds_le = rfr.predict(X_test_life)\n",
    "\n",
    "life_exp_2017 = pd.read_csv(\"life_expectancy_2017.csv\")\n",
    "\n",
    "real = life_exp_2017['2017'] - life_exp_2017['2016'] \n",
    "real_vals = []\n",
    "\n",
    "vals_2016 = []\n",
    "vals_2017 = []\n",
    "\n",
    "for i in range(len(life_exp_test)):\n",
    "    for j in range(len(life_exp_2017)):\n",
    "        if life_exp_test.iloc[i]['Country Code'] == life_exp_2017.iloc[j]['Country Code']:\n",
    "            vals_2016.append(life_exp_2017.iloc[j]['2016'])\n",
    "            vals_2017.append(life_exp_2017.iloc[j]['2017'])\n",
    "\n",
    "            \n",
    "\n",
    "y_test_life = np.array([x1 - x2 for (x1, x2) in zip(vals_2017, vals_2016)])"
   ]
  },
  {
   "cell_type": "markdown",
   "metadata": {},
   "source": [
    "### Compare predictions to real values"
   ]
  },
  {
   "cell_type": "code",
   "execution_count": 33,
   "metadata": {},
   "outputs": [
    {
     "name": "stdout",
     "output_type": "stream",
     "text": [
      "######### Country Population #########\n",
      "The RVE is:  0.9993438228391823\n",
      "The rmse is:  611337.0492016952\n",
      "The Correlation Score is: 0.9997 (p-value=3.662472e-14)\n",
      "\n",
      "The Maximum Error is:  1749690.6099999994\n",
      "The Mean Absolute Error is:  298208.8694999998\n",
      "----------------------------\n"
     ]
    },
    {
     "data": {
      "image/png": "[encoded data removed]",
      "text/plain": [
       "<Figure size 504x504 with 1 Axes>"
      ]
     },
     "metadata": {
      "needs_background": "light"
     },
     "output_type": "display_data"
    },
    {
     "name": "stdout",
     "output_type": "stream",
     "text": [
      "######### Fertility Rate #########\n",
      "The RVE is:  -0.050534366534395136\n",
      "The rmse is:  0.0241146213020118\n",
      "The Correlation Score is: 0.4474 (p-value=1.948447e-01)\n",
      "\n",
      "The Maximum Error is:  0.046800577586153524\n",
      "The Mean Absolute Error is:  0.018128276164800127\n",
      "----------------------------\n"
     ]
    },
    {
     "data": {
      "image/png": "[encoded data removed]",
      "text/plain": [
       "<Figure size 504x504 with 1 Axes>"
      ]
     },
     "metadata": {
      "needs_background": "light"
     },
     "output_type": "display_data"
    },
    {
     "name": "stdout",
     "output_type": "stream",
     "text": [
      "######### Life expectancy #########\n",
      "The RVE is:  0.2041620513985134\n",
      "The rmse is:  0.19565242516898423\n",
      "The Correlation Score is: 0.4767 (p-value=1.635964e-01)\n",
      "\n",
      "The Maximum Error is:  0.49709824803491115\n",
      "The Mean Absolute Error is:  0.14625100035704647\n",
      "----------------------------\n"
     ]
    },
    {
     "data": {
      "image/png": "[encoded data removed]",
      "text/plain": [
       "<Figure size 504x504 with 1 Axes>"
      ]
     },
     "metadata": {
      "needs_background": "light"
     },
     "output_type": "display_data"
    }
   ],
   "source": [
    "################################## Country Population ##################################\n",
    "print(\"######### Country Population #########\")\n",
    "printRegStatistics(y_test_country, final_preds_cp)\n",
    "compareValuesCP(y_test_country, final_preds_cp)\n",
    "\n",
    "################################## Fertility Rate ##################################\n",
    "\n",
    "print(\"######### Fertility Rate #########\")\n",
    "printRegStatistics(y_test_fert, final_preds_fr)\n",
    "compareValuesFR(y_test_fert, final_preds_fr)\n",
    "\n",
    "################################## Life expectancy ##################################\n",
    "\n",
    "print(\"######### Life expectancy #########\")\n",
    "printRegStatistics(y_test_life, final_preds_le)\n",
    "compareValuesLE(y_test_life, final_preds_le)"
   ]
  }
 ],
 "metadata": {
  "kernelspec": {
   "display_name": "Python 3",
   "language": "python",
   "name": "python3"
  },
  "language_info": {
   "codemirror_mode": {
    "name": "ipython",
    "version": 3
   },
   "file_extension": ".py",
   "mimetype": "text/x-python",
   "name": "python",
   "nbconvert_exporter": "python",
   "pygments_lexer": "ipython3",
   "version": "3.8.5"
  },
  "toc": {
   "base_numbering": 1,
   "nav_menu": {},
   "number_sections": false,
   "sideBar": true,
   "skip_h1_title": false,
   "title_cell": "Table of Contents",
   "title_sidebar": "Contents",
   "toc_cell": false,
   "toc_position": {},
   "toc_section_display": true,
   "toc_window_display": false
  }
 },
 "nbformat": 4,
 "nbformat_minor": 4
}
